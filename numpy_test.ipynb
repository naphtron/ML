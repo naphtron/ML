{
  "nbformat": 4,
  "nbformat_minor": 0,
  "metadata": {
    "colab": {
      "provenance": [],
      "authorship_tag": "ABX9TyPU59p6CoinY6ouZk+Ol+EJ",
      "include_colab_link": true
    },
    "kernelspec": {
      "name": "python3",
      "display_name": "Python 3"
    },
    "language_info": {
      "name": "python"
    }
  },
  "cells": [
    {
      "cell_type": "markdown",
      "metadata": {
        "id": "view-in-github",
        "colab_type": "text"
      },
      "source": [
        "<a href=\"https://colab.research.google.com/github/naphtron/ML/blob/main/numpy_test.ipynb\" target=\"_parent\"><img src=\"https://colab.research.google.com/assets/colab-badge.svg\" alt=\"Open In Colab\"/></a>"
      ]
    },
    {
      "cell_type": "code",
      "execution_count": null,
      "metadata": {
        "id": "8eZoC7kgeZG4"
      },
      "outputs": [],
      "source": [
        "import numpy as np"
      ]
    },
    {
      "cell_type": "code",
      "source": [
        "a  = np.array([1,2,3])\n",
        "\n",
        "\n",
        "print(a)\n",
        "print(a.shape)\n",
        "print(a.dtype)\n",
        "print(a.ndim)\n",
        "print(a.size)\n",
        "print(a.itemsize)"
      ],
      "metadata": {
        "colab": {
          "base_uri": "https://localhost:8080/"
        },
        "id": "XvmooQ1efGaK",
        "outputId": "dc84b0d1-016c-4adb-b773-42b19239b9cb"
      },
      "execution_count": null,
      "outputs": [
        {
          "output_type": "stream",
          "name": "stdout",
          "text": [
            "[1 2 3]\n",
            "(3,)\n",
            "int64\n",
            "1\n",
            "3\n",
            "8\n"
          ]
        }
      ]
    },
    {
      "cell_type": "code",
      "source": [
        "b = a * np.array([2,0,2])\n",
        "print(b)"
      ],
      "metadata": {
        "colab": {
          "base_uri": "https://localhost:8080/"
        },
        "id": "sq-erObChht1",
        "outputId": "6c660978-822e-4c59-a659-53cd81527f09"
      },
      "execution_count": null,
      "outputs": [
        {
          "output_type": "stream",
          "name": "stdout",
          "text": [
            "[2 0 6]\n"
          ]
        }
      ]
    },
    {
      "cell_type": "code",
      "source": [
        "c = np.array([[1,2,3],[4,5,6],[8,8,9]])\n",
        "print(c)"
      ],
      "metadata": {
        "colab": {
          "base_uri": "https://localhost:8080/"
        },
        "id": "vsGMzRvUPNHB",
        "outputId": "5ffeda77-3382-42fb-86da-b32644bf5016"
      },
      "execution_count": null,
      "outputs": [
        {
          "output_type": "stream",
          "name": "stdout",
          "text": [
            "[[1 2 3]\n",
            " [4 5 6]\n",
            " [8 8 9]]\n"
          ]
        }
      ]
    },
    {
      "cell_type": "markdown",
      "source": [
        "##np array vs list"
      ],
      "metadata": {
        "id": "0ZQDQKQKi1cR"
      }
    },
    {
      "cell_type": "code",
      "source": [
        "l = [1,2,3]\n",
        "# a = np.array([1,2,3])\n",
        "l.append(4)\n",
        "print(l)\n",
        "# a.append(4) - won't work since np.array has no append method\n",
        "print(a)\n"
      ],
      "metadata": {
        "colab": {
          "base_uri": "https://localhost:8080/"
        },
        "id": "LtoVSrWxi9P5",
        "outputId": "10dd754b-217f-4847-e4fb-97b90e4f46fd"
      },
      "execution_count": null,
      "outputs": [
        {
          "output_type": "stream",
          "name": "stdout",
          "text": [
            "[1, 2, 3, 4]\n",
            "[1 2 3]\n"
          ]
        }
      ]
    },
    {
      "cell_type": "code",
      "source": [
        "print(np.diag([1,2]))\n",
        "print(np.linalg.inv(c))\n",
        "print(np.linalg.det(c))"
      ],
      "metadata": {
        "colab": {
          "base_uri": "https://localhost:8080/"
        },
        "id": "UVm5s_0pNv9C",
        "outputId": "34e97d6e-79fa-4f93-a30f-7fb0853738fc"
      },
      "execution_count": null,
      "outputs": [
        {
          "output_type": "stream",
          "name": "stdout",
          "text": [
            "[[1 0]\n",
            " [0 2]]\n",
            "[[ 1.         -2.          1.        ]\n",
            " [-4.          5.         -2.        ]\n",
            " [ 2.66666667 -2.66666667  1.        ]]\n",
            "-2.9999999999999996\n"
          ]
        }
      ]
    },
    {
      "cell_type": "code",
      "source": [
        "bool_idx = c > 2\n",
        "print(bool_idx)\n",
        "print(c[bool_idx]) \n",
        "\n",
        "print(c[c>2])\n",
        "\n",
        "b = np.where(c>2, c, -1)\n",
        "print(b)"
      ],
      "metadata": {
        "colab": {
          "base_uri": "https://localhost:8080/"
        },
        "id": "8LhgsgHWQlLz",
        "outputId": "73795921-8a4b-4f17-c03a-9a6cd9016bf8"
      },
      "execution_count": null,
      "outputs": [
        {
          "output_type": "stream",
          "name": "stdout",
          "text": [
            "[[False False  True]\n",
            " [ True  True  True]\n",
            " [ True  True  True]]\n",
            "[3 4 5 6 8 8 9]\n",
            "[3 4 5 6 8 8 9]\n",
            "[[-1 -1  3]\n",
            " [ 4  5  6]\n",
            " [ 8  8  9]]\n"
          ]
        }
      ]
    },
    {
      "cell_type": "markdown",
      "source": [
        "##Fancy Indexing"
      ],
      "metadata": {
        "id": "uA7XISHUTJjg"
      }
    },
    {
      "cell_type": "code",
      "source": [
        "a1 = np.array([10,19,30,41,50,61])\n",
        "print(a1)\n",
        "b1 = [1,3,5]\n",
        "print(a1[b1])"
      ],
      "metadata": {
        "colab": {
          "base_uri": "https://localhost:8080/"
        },
        "id": "vnUaIP7tTQYT",
        "outputId": "5cb5e53a-0171-46c2-dde2-6acbe0a8f05e"
      },
      "execution_count": null,
      "outputs": [
        {
          "output_type": "stream",
          "name": "stdout",
          "text": [
            "[10 19 30 41 50 61]\n",
            "[19 41 61]\n"
          ]
        }
      ]
    },
    {
      "cell_type": "markdown",
      "source": [
        "##np.argwhere()"
      ],
      "metadata": {
        "id": "M00Xhj5-VXZq"
      }
    },
    {
      "cell_type": "code",
      "source": [
        "even = np.argwhere(a1%2==0).flatten()\n",
        "print(\"Even indices: \", even)\n",
        "print(a1[even])"
      ],
      "metadata": {
        "colab": {
          "base_uri": "https://localhost:8080/"
        },
        "id": "rK6A-ivQVf7s",
        "outputId": "40ac04f9-9262-4c0e-afc8-2e065c51971e"
      },
      "execution_count": null,
      "outputs": [
        {
          "output_type": "stream",
          "name": "stdout",
          "text": [
            "Even indices:  [0 2 4]\n",
            "[10 30 50]\n"
          ]
        }
      ]
    },
    {
      "cell_type": "markdown",
      "source": [
        "##np.arange()"
      ],
      "metadata": {
        "id": "E0xjGEjrWxuk"
      }
    },
    {
      "cell_type": "code",
      "source": [
        "a2 = np.arange(1,7)\n",
        "print(a2)\n",
        "print(a2.shape)\n",
        "\n",
        "# reshaping array\n",
        "b2 = a2.reshape((2,3))\n",
        "print(b2)"
      ],
      "metadata": {
        "colab": {
          "base_uri": "https://localhost:8080/"
        },
        "id": "A8JJEc9YWwpG",
        "outputId": "375bf1e0-d604-43ef-dbc7-b14e7e89e62c"
      },
      "execution_count": null,
      "outputs": [
        {
          "output_type": "stream",
          "name": "stdout",
          "text": [
            "[1 2 3 4 5 6]\n",
            "(6,)\n",
            "[[1 2 3]\n",
            " [4 5 6]]\n"
          ]
        }
      ]
    },
    {
      "cell_type": "markdown",
      "source": [
        "##np.newaxis()"
      ],
      "metadata": {
        "id": "V5fbO-v6YCmd"
      }
    },
    {
      "cell_type": "code",
      "source": [
        "# b3 = a2[np.newaxis, :]\n",
        "b3 = a2[:,np.newaxis]\n",
        "print(b3.shape)\n",
        "print(b3)\n",
        "\n",
        "# np.newaxis() is very useful if your ML model requires data in a certain shape"
      ],
      "metadata": {
        "colab": {
          "base_uri": "https://localhost:8080/"
        },
        "id": "zz_J82o6YH15",
        "outputId": "1376de5b-c65c-4f58-94e4-538e4112d357"
      },
      "execution_count": null,
      "outputs": [
        {
          "output_type": "stream",
          "name": "stdout",
          "text": [
            "(6, 1)\n",
            "[[1]\n",
            " [2]\n",
            " [3]\n",
            " [4]\n",
            " [5]\n",
            " [6]]\n"
          ]
        }
      ]
    },
    {
      "cell_type": "markdown",
      "source": [
        "## np.concatenate"
      ],
      "metadata": {
        "id": "kDm5wRmzZbca"
      }
    },
    {
      "cell_type": "code",
      "source": [
        "a = np.array([[1,2],[3,4]])\n",
        "print(a,\"\\n\")\n",
        "\n",
        "b = np.array([[5,6]])\n",
        "c = np.concatenate((a,b.T), axis=1)\n",
        "print(\"C:\\n \",c , type(c))\n"
      ],
      "metadata": {
        "colab": {
          "base_uri": "https://localhost:8080/"
        },
        "id": "nc3MptwyZfsV",
        "outputId": "a8421df3-4430-414e-a3d2-14fb19cf748f"
      },
      "execution_count": null,
      "outputs": [
        {
          "output_type": "stream",
          "name": "stdout",
          "text": [
            "[[1 2]\n",
            " [3 4]] \n",
            "\n",
            "C:\n",
            "  [[1 2 5]\n",
            " [3 4 6]] <class 'numpy.ndarray'>\n"
          ]
        }
      ]
    },
    {
      "cell_type": "markdown",
      "source": [
        "##np.hstack"
      ],
      "metadata": {
        "id": "pQziw-GFgirq"
      }
    },
    {
      "cell_type": "code",
      "source": [
        "a = np.array([1,2,3,4])\n",
        "b = np. array([5,6,7,8])\n",
        "\n",
        "c = np.hstack((a,b))\n",
        "print(c)\n",
        "print(c.shape)\n",
        "\n",
        "# np.hstack: Stack arrays in sequence horizontally (column wise)."
      ],
      "metadata": {
        "colab": {
          "base_uri": "https://localhost:8080/"
        },
        "id": "YHXBD8dugm6C",
        "outputId": "92009c88-35b0-48ac-d2c6-bfce0f85c9ee"
      },
      "execution_count": null,
      "outputs": [
        {
          "output_type": "stream",
          "name": "stdout",
          "text": [
            "[1 2 3 4 5 6 7 8]\n",
            "(8,)\n"
          ]
        }
      ]
    },
    {
      "cell_type": "markdown",
      "source": [
        "##np.vstack"
      ],
      "metadata": {
        "id": "YiWaPzGyhRPC"
      }
    },
    {
      "cell_type": "code",
      "source": [
        "c = np.vstack((a,b))\n",
        "print(c)\n",
        "print(c.shape)\n",
        "# np.vstack: Stack arrays in sequence vertically (row wise)."
      ],
      "metadata": {
        "colab": {
          "base_uri": "https://localhost:8080/"
        },
        "id": "7CJESWdrhTuN",
        "outputId": "266a635c-cfc5-45d3-e949-558b4672315b"
      },
      "execution_count": null,
      "outputs": [
        {
          "output_type": "stream",
          "name": "stdout",
          "text": [
            "[[1 2 3 4]\n",
            " [5 6 7 8]]\n",
            "(2, 4)\n"
          ]
        }
      ]
    },
    {
      "cell_type": "markdown",
      "source": [
        "#Broadcasting"
      ],
      "metadata": {
        "id": "w2IY2NRoh5TN"
      }
    },
    {
      "cell_type": "code",
      "source": [
        "x = np.array([[1,2,3],[4,5,6],[1,2,3],[4,5,6]])\n",
        "a = np.array([1,0,1])\n",
        "y = x + a\n",
        "print(y)\n"
      ],
      "metadata": {
        "colab": {
          "base_uri": "https://localhost:8080/"
        },
        "id": "CbR4dgMLh_tw",
        "outputId": "b01147d6-8a29-4d63-969d-fe7c8893227d"
      },
      "execution_count": null,
      "outputs": [
        {
          "output_type": "stream",
          "name": "stdout",
          "text": [
            "[[2 2 4]\n",
            " [5 5 7]\n",
            " [2 2 4]\n",
            " [5 5 7]]\n"
          ]
        }
      ]
    },
    {
      "cell_type": "markdown",
      "source": [
        "##np.array.sum() and np.array.mean() \n",
        "##np.array.var() np.array.std()"
      ],
      "metadata": {
        "id": "6-4zRNp7nL3V"
      }
    },
    {
      "cell_type": "code",
      "source": [
        "a = np.array([[7,8,9,10,11,12,13], [17,18,19,20,21,22,23]])\n",
        "\n",
        "print(a)\n",
        "print(a.sum(axis=None)) #sum all elements\n",
        "print(a.sum(axis=0)) # sum row wise\n",
        "print(a.sum(axis=1)) # sum column wise\n",
        "print(\"\\nMean\\n\")\n",
        "print(a.mean(axis=None)) #mean all elements\n",
        "print(a.mean(axis=0)) # mean row wise\n",
        "print(a.mean(axis=1)) # mean column wise\n",
        "print(\"\\nstd\\n\")\n",
        "print(a.std(axis=None)) #std all elements\n",
        "print(a.std(axis=0)) #std row wise\n",
        "print(a.std(axis=1)) # std column wise\n",
        "print(\"\\nvar\\n\")\n",
        "print(a.var(axis=None)) #var all elements\n",
        "print(a.var(axis=0)) # var row wise\n",
        "print(a.var(axis=1)) # var column wise\n",
        "print(\"\\nmin\\n\")\n",
        "print(a.min(axis=None)) #min all elements\n",
        "print(a.min(axis=0)) # min row wise\n",
        "print(a.min(axis=1)) # min column wise\n",
        "print(\"\\nmax\\n\")\n",
        "print(a.max(axis=None)) #max all elements\n",
        "print(a.max(axis=0)) # max row wise\n",
        "print(a.max(axis=1)) # max column wise"
      ],
      "metadata": {
        "colab": {
          "base_uri": "https://localhost:8080/"
        },
        "id": "90MHGhziltTq",
        "outputId": "d714cc06-c0e9-400a-ce2e-8a10980206ea"
      },
      "execution_count": null,
      "outputs": [
        {
          "output_type": "stream",
          "name": "stdout",
          "text": [
            "[[ 7  8  9 10 11 12 13]\n",
            " [17 18 19 20 21 22 23]]\n",
            "210\n",
            "[24 26 28 30 32 34 36]\n",
            "[ 70 140]\n",
            "\n",
            "Mean\n",
            "\n",
            "15.0\n",
            "[12. 13. 14. 15. 16. 17. 18.]\n",
            "[10. 20.]\n",
            "\n",
            "std\n",
            "\n",
            "5.385164807134504\n",
            "[5. 5. 5. 5. 5. 5. 5.]\n",
            "[2. 2.]\n",
            "\n",
            "var\n",
            "\n",
            "29.0\n",
            "[25. 25. 25. 25. 25. 25. 25.]\n",
            "[4. 4.]\n",
            "\n",
            "min\n",
            "\n",
            "7\n",
            "[ 7  8  9 10 11 12 13]\n",
            "[ 7 17]\n",
            "\n",
            "max\n",
            "\n",
            "23\n",
            "[17 18 19 20 21 22 23]\n",
            "[13 23]\n"
          ]
        }
      ]
    },
    {
      "cell_type": "markdown",
      "source": [
        "##Datatypes"
      ],
      "metadata": {
        "id": "mIOANIJYD_mR"
      }
    },
    {
      "cell_type": "code",
      "source": [
        "x = np.array([1,2])\n",
        "print(f\"X: {x} Datatype:{x.dtype}\")\n",
        "\n",
        "#you can specify datatype\n",
        "x1 = np.array([1.1,2.0], dtype=np.int32)\n",
        "print(x1)\n",
        "x2 = np.array([1.1,2.0], dtype=np.float64)\n",
        "print(x2)"
      ],
      "metadata": {
        "colab": {
          "base_uri": "https://localhost:8080/"
        },
        "id": "6enRQwtvECMH",
        "outputId": "92622ea0-ab12-4dde-8e32-cd1383b847d7"
      },
      "execution_count": null,
      "outputs": [
        {
          "output_type": "stream",
          "name": "stdout",
          "text": [
            "X: [1 2] Datatype:int64\n",
            "[1 2]\n",
            "[1.1 2. ]\n"
          ]
        }
      ]
    },
    {
      "cell_type": "markdown",
      "source": [
        "##Copying Arrays"
      ],
      "metadata": {
        "id": "4KrDTjh3FXw8"
      }
    },
    {
      "cell_type": "code",
      "source": [
        "#Don't\n",
        "a = np.array([1,2,3])\n",
        "b = a\n",
        "b[0] = 42\n",
        "print(b)\n",
        "print(a)\n",
        "# modifies both a and b since you copied the reference and this points to the same location in memory.\n",
        "\n",
        "#Do\n",
        "a1 = np.array([1,2,3])\n",
        "b1 = a1.copy()\n",
        "b1[0] = 42\n",
        "print(b1)\n",
        "print(a1)"
      ],
      "metadata": {
        "colab": {
          "base_uri": "https://localhost:8080/"
        },
        "id": "wNFyh9S4Fatp",
        "outputId": "c61c0a28-1b2f-4222-8761-b5e00c2a24b6"
      },
      "execution_count": null,
      "outputs": [
        {
          "output_type": "stream",
          "name": "stdout",
          "text": [
            "[42  2  3]\n",
            "[42  2  3]\n",
            "[42  2  3]\n",
            "[1 2 3]\n"
          ]
        }
      ]
    },
    {
      "cell_type": "markdown",
      "source": [
        "##Generating Arrays"
      ],
      "metadata": {
        "id": "xeZwt8HIGziI"
      }
    },
    {
      "cell_type": "code",
      "source": [
        "\n",
        "a = np.zeros((2,3)) #Return a new array of given shape and type, filled with zeros.\n",
        "print(\"np.zeros(2,3)\\n\",a,\"\\n\")\n",
        "\n",
        "b = np.ones((2,3)) #Return a new array of given shape and type, filled with ones.\n",
        "print(\"np.ones(2,3)\\n\",b,\"\\n\")\n",
        "\n",
        "c = np.full((2,3), 5.0) #Return a new array of given shape and type, filled with passed value\n",
        "print(\"np.full(2,3)\\n\",c,\"\\n\")\n",
        "\n",
        "d = np.eye(3) # Returns identity matrix\n",
        "print(\"np.eye(3)\\n\",d,\"\\n\")\n",
        "\n",
        "e = np.arange(20) #Return evenly spaced values within a given interval\n",
        "print(\"np.arange(20)\\n\",e,\"\\n\")\n",
        "\n",
        "f = np.linspace(0,10,5) # Return evenly spaced numbers over a specified interval\n",
        "print(\"np.linspace(0,10,5)\\n\", f)"
      ],
      "metadata": {
        "colab": {
          "base_uri": "https://localhost:8080/"
        },
        "id": "esobiy1XG_UR",
        "outputId": "d2d61616-4184-485b-896b-30406ea81aa8"
      },
      "execution_count": null,
      "outputs": [
        {
          "output_type": "stream",
          "name": "stdout",
          "text": [
            "np.zeros(2,3)\n",
            " [[0. 0. 0.]\n",
            " [0. 0. 0.]] \n",
            "\n",
            "np.ones(2,3)\n",
            " [[1. 1. 1.]\n",
            " [1. 1. 1.]] \n",
            "\n",
            "np.full(2,3)\n",
            " [[5. 5. 5.]\n",
            " [5. 5. 5.]] \n",
            "\n",
            "np.eye(3)\n",
            " [[1. 0. 0.]\n",
            " [0. 1. 0.]\n",
            " [0. 0. 1.]] \n",
            "\n",
            "np.arange(20)\n",
            " [ 0  1  2  3  4  5  6  7  8  9 10 11 12 13 14 15 16 17 18 19] \n",
            "\n",
            "np.linspace(0,10,5)\n",
            " [ 0.   2.5  5.   7.5 10. ]\n"
          ]
        }
      ]
    },
    {
      "cell_type": "markdown",
      "source": [
        "##Random Numbers"
      ],
      "metadata": {
        "id": "fGKSEIXvN7y8"
      }
    },
    {
      "cell_type": "code",
      "source": [
        "a = np.random.random((3,2)) #0-1\n",
        "print(a)\n",
        "\n",
        "b = np.random.randn(1000) #normal/ Gaussian\n",
        "print(b.mean(), b.var())\n",
        "\n",
        "c = np.random.randint(7,10,size=(3,3)) # or c = np.random.randint(low,high,size=[3,3])\n",
        "print(c)\n",
        "\n",
        "d = np.random.choice(5,size=10)\n",
        "\n",
        "# or\n",
        "\n",
        "e = np.random.choice([-7,-6,-8],size=10)"
      ],
      "metadata": {
        "colab": {
          "base_uri": "https://localhost:8080/"
        },
        "id": "73iILt7ZKmX_",
        "outputId": "217c8553-3138-4629-9900-6f3fc0f5da7c"
      },
      "execution_count": null,
      "outputs": [
        {
          "output_type": "stream",
          "name": "stdout",
          "text": [
            "[[0.67425929 0.95782792]\n",
            " [0.31896959 0.14509079]\n",
            " [0.41578985 0.14853755]]\n",
            "0.026674767900917086 1.1100969376681877\n",
            "[[9 7 9]\n",
            " [7 8 9]\n",
            " [9 9 8]]\n"
          ]
        }
      ]
    },
    {
      "cell_type": "markdown",
      "source": [
        "##Linear Algebra - Eigenvalues/Eigenvectors"
      ],
      "metadata": {
        "id": "Ybh5cEjxPobE"
      }
    },
    {
      "cell_type": "code",
      "source": [
        "a = np.array([[1,2],[3,4]])\n",
        "eigenvalues, eigenvectors = np.linalg.eig(a)\n",
        "\n",
        "print(\"Eigenvalues\",eigenvalues,\"\\n\")\n",
        "print(\"Eigenvectors\",eigenvectors) # column vectors\n",
        "\n",
        "b = eigenvectors[:,0] * eigenvalues[0]\n",
        "print(b)\n",
        "c = a @ eigenvectors[:,0]\n",
        "#print(b==c)\n",
        "print(np.allclose(b,c))"
      ],
      "metadata": {
        "colab": {
          "base_uri": "https://localhost:8080/"
        },
        "id": "QXWuhMcwPx8O",
        "outputId": "78991c99-4e10-4581-cef4-991127aec5df"
      },
      "execution_count": null,
      "outputs": [
        {
          "output_type": "stream",
          "name": "stdout",
          "text": [
            "Eigenvalues [-0.37228132  5.37228132] \n",
            "\n",
            "Eigenvectors [[-0.82456484 -0.41597356]\n",
            " [ 0.56576746 -0.90937671]]\n",
            "[ 0.30697009 -0.21062466]\n",
            "True\n"
          ]
        }
      ]
    },
    {
      "cell_type": "markdown",
      "source": [
        "##Solving Linear Systems"
      ],
      "metadata": {
        "id": "VosKnKGeZxQ2"
      }
    },
    {
      "cell_type": "markdown",
      "source": [
        "###Q: The admission fee at a small fair is 1.50 dollars for children and 4.00 dollars for adults. On a certain day, 2200 people enter the fair and $5050 is collectes. How mainy adults attended ?"
      ],
      "metadata": {
        "id": "ccPbwyysZ-JR"
      }
    },
    {
      "cell_type": "code",
      "source": [
        "# x1 + x2 = 2200\n",
        "#1.5x1 + 4.0x2 = 5050\n",
        "#x1 is the number of children, x2 is the number of adults"
      ],
      "metadata": {
        "id": "M7flo1lKZ1xa"
      },
      "execution_count": null,
      "outputs": []
    },
    {
      "cell_type": "code",
      "source": [
        "#Soln: Manual way\n",
        "A = np.array([[1,1],[1.5,4]])\n",
        "b = np.array([2200,5050])\n",
        "\n",
        "x = np.linalg.inv(A).dot(b)\n",
        "print(x)\n",
        "\n",
        "#Soln: np.linalg.solve()\n",
        "# use this to solve linear equations\n",
        "x1 = np.linalg.solve(A,b)\n",
        "print(x1)"
      ],
      "metadata": {
        "colab": {
          "base_uri": "https://localhost:8080/"
        },
        "id": "mAoynn0vacNE",
        "outputId": "56afd5e8-7ab4-49b5-c0e0-bb9930291353"
      },
      "execution_count": null,
      "outputs": [
        {
          "output_type": "stream",
          "name": "stdout",
          "text": [
            "[1500.  700.]\n",
            "[1500.  700.]\n"
          ]
        }
      ]
    },
    {
      "cell_type": "markdown",
      "source": [
        "##Loading CSV files\n",
        "##$np.loadtxt()$ and $np.genfromtxt()$"
      ],
      "metadata": {
        "id": "eeTFk_L5eSeu"
      }
    },
    {
      "cell_type": "code",
      "source": [
        "data = np.loadtxt('spambase.csv', delimiter=\",\", dtype=np.float32)\n",
        "data_is_also =  np.genfromtxt('spambase.csv', delimiter=\",\", dtype=np.float32)"
      ],
      "metadata": {
        "id": "qQBeazE6eOLy"
      },
      "execution_count": null,
      "outputs": []
    }
  ]
}